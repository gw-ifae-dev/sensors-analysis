import pandas as pd
import numpy as np

def mergeficheros(list_ficheros):
    with open(list_ficheros) as f:
        file_list = f.read().splitlines()

    nfil = 0
    T = pd.DataFrame()

    for file_path in file_list:
        nfil += 1
        Ti = pd.read_csv(file_path)

        # Check table size
        if Ti.shape != (100, 10):
            print(f'WARNING: The size of the table in {file_path} is not standard, check the file')
        else:
            print('Table ok')

        Ti.columns = ['date', 'time', 'LCurrent', 'meanPM', 'stdPM', 'meanRefPD', 'stdRefPD', 'Temp', 'RH', 'samples']
        T = pd.concat([T, Ti])

    K = T['LCurrent'].unique()
    Tk = pd.DataFrame()
    Tav = pd.DataFrame()

    for k in K:
        mask = T['LCurrent'] == k
        count = sum(mask)

        Tk['LCurrent'] = [k]
        Tk['avPM'] = [T.loc[mask, 'meanPM'].mean()]
        Tk['stdPM'] = [T.loc[mask, 'meanPM'].std()]
        Tk['avRPD'] = [T.loc[mask, 'meanRefPD'].mean()]
        Tk['stdRPD'] = [T.loc[mask, 'meanRefPD'].std()]
        Tk['Temp'] = [T.loc[mask, 'Temp'].mean()]
        Tk['RH'] = [T.loc[mask, 'RH'].mean()]

        Tav = pd.concat([Tav, Tk])

    return T, Tav

# Call the function with the list of files as an argument
list_of_files = 'list_of_files.txt'  # Provide the path to your file list
T, Tav = mergeficheros(list_of_files)
