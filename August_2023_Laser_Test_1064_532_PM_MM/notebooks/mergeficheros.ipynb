{
 "cells": [
  {
   "cell_type": "code",
   "execution_count": 1,
   "metadata": {},
   "outputs": [
    {
     "ename": "ModuleNotFoundError",
     "evalue": "No module named 'pandas'",
     "output_type": "error",
     "traceback": [
      "\u001b[0;31m---------------------------------------------------------------------------\u001b[0m",
      "\u001b[0;31mModuleNotFoundError\u001b[0m                       Traceback (most recent call last)",
      "Cell \u001b[0;32mIn[1], line 1\u001b[0m\n\u001b[0;32m----> 1\u001b[0m \u001b[39mimport\u001b[39;00m \u001b[39mpandas\u001b[39;00m \u001b[39mas\u001b[39;00m \u001b[39mpd\u001b[39;00m\n\u001b[1;32m      2\u001b[0m \u001b[39mimport\u001b[39;00m \u001b[39mnumpy\u001b[39;00m \u001b[39mas\u001b[39;00m \u001b[39mnp\u001b[39;00m\n\u001b[1;32m      3\u001b[0m \u001b[39mimport\u001b[39;00m \u001b[39mmatplotlib\u001b[39;00m\u001b[39m.\u001b[39;00m\u001b[39mpyplot\u001b[39;00m \u001b[39mas\u001b[39;00m \u001b[39mplt\u001b[39;00m\n",
      "\u001b[0;31mModuleNotFoundError\u001b[0m: No module named 'pandas'"
     ]
    }
   ],
   "source": [
    "import pandas as pd\n",
    "import numpy as np\n",
    "import matplotlib.pyplot as plt\n",
    "\n",
    "def mergeficheros(list_ficheros):\n",
    "    with open(list_ficheros) as f:\n",
    "        file_list = f.read().splitlines()\n",
    "\n",
    "    nfil = 0\n",
    "    T = pd.DataFrame()\n",
    "\n",
    "    for file_path in file_list:\n",
    "        nfil += 1\n",
    "        Ti = pd.read_csv(file_path,delimiter ='\\t',header=None)\n",
    "\n",
    "        # Check table size\n",
    " #       if Ti.shape != (100, 10):\n",
    " #           print(f'WARNING: The size of the table in {file_path} is not standard, check the file')\n",
    " #       else:\n",
    " #           print('Table ok')\n",
    "\n",
    "        Ti.columns = ['date', 'time', 'LCurrent', 'meanPM', 'stdPM', 'meanRefPD', 'stdRefPD', 'Temp', 'RH', 'samples']\n",
    "        T = pd.concat([T, Ti])\n",
    "\n",
    "\n",
    "    K = T['LCurrent'].unique()\n",
    "    Tk = pd.DataFrame()\n",
    "    Tav = pd.DataFrame()\n",
    "\n",
    "    for k in K:\n",
    "        mask = T['LCurrent'] == k\n",
    "        count = sum(mask)\n",
    "\n",
    "        Tk['LCurrent'] = [k]\n",
    "        Tk['avPM'] = [T.loc[mask, 'meanPM'].mean()]\n",
    "        Tk['stdPM'] = [T.loc[mask, 'meanPM'].std()]\n",
    "        Tk['avRPD'] = [T.loc[mask, 'meanRefPD'].mean()]\n",
    "        Tk['stdRPD'] = [T.loc[mask, 'meanRefPD'].std()]\n",
    "        Tk['Temp'] = [T.loc[mask, 'Temp'].mean()]\n",
    "        Tk['RH'] = [T.loc[mask, 'RH'].mean()]\n",
    "\n",
    "        Tav = pd.concat([Tav, Tk])\n",
    "\n",
    "    return T, Tav\n"
   ]
  },
  {
   "cell_type": "code",
   "execution_count": null,
   "metadata": {},
   "outputs": [],
   "source": [
    "# Call the function with the list of files as an argument\n",
    "list_of_files = '../data/Laser_Test_PM_MM/lista_Laser_532.txt'  # Provide the path to your file list\n",
    "T, Tav = mergeficheros(list_of_files)"
   ]
  },
  {
   "cell_type": "code",
   "execution_count": 68,
   "metadata": {},
   "outputs": [
    {
     "data": {
      "image/png": "[encoded data removed]",
      "text/plain": [
       "<Figure size 432x288 with 1 Axes>"
      ]
     },
     "metadata": {
      "needs_background": "light"
     },
     "output_type": "display_data"
    }
   ],
   "source": [
    "\n",
    "import matplotlib.pyplot as plt\n",
    "# Assuming you already have Tav as a DataFrame containing 'avRPD', 'avPM', and 'stdPM' columns\n",
    "\n",
    "# Extract the data\n",
    "avRPD = Tav['avRPD']\n",
    "avPM = Tav['avPM']\n",
    "stdPM = Tav['stdPM']\n",
    "\n",
    "# Create an errorbar plot\n",
    "plt.errorbar(avRPD, avPM, yerr=stdPM, fmt='.')\n",
    "\n",
    "# Add labels and title (customize as needed)\n",
    "plt.xlabel('avRPD (V)')\n",
    "plt.ylabel('avPM (W)')\n",
    "plt.title('Errorbar Plot')\n",
    "\n",
    "# Show the plot\n",
    "plt.show()"
   ]
  },
  {
   "cell_type": "code",
   "execution_count": 51,
   "metadata": {},
   "outputs": [
    {
     "data": {
      "text/html": [
       "<div><div id=a89d0d98-b3ef-45d0-849e-6ac12826f99d style=\"display:none; background-color:#9D6CFF; color:white; width:200px; height:30px; padding-left:5px; border-radius:4px; flex-direction:row; justify-content:space-around; align-items:center;\" onmouseover=\"this.style.backgroundColor='#BA9BF8'\" onmouseout=\"this.style.backgroundColor='#9D6CFF'\" onclick=\"window.commands?.execute('create-mitosheet-from-dataframe-output');\">See Full Dataframe in Mito</div> <script> if (window.commands?.hasCommand('create-mitosheet-from-dataframe-output')) document.getElementById('a89d0d98-b3ef-45d0-849e-6ac12826f99d').style.display = 'flex' </script> <table border=\"1\" class=\"dataframe\">\n",
       "  <thead>\n",
       "    <tr style=\"text-align: right;\">\n",
       "      <th></th>\n",
       "      <th>LCurrent</th>\n",
       "      <th>avPM</th>\n",
       "      <th>stdPM</th>\n",
       "      <th>avRPD</th>\n",
       "      <th>stdRPD</th>\n",
       "      <th>Temp</th>\n",
       "      <th>RH</th>\n",
       "    </tr>\n",
       "  </thead>\n",
       "  <tbody>\n",
       "    <tr>\n",
       "      <th>0</th>\n",
       "      <td>200.000</td>\n",
       "      <td>3.800000e-07</td>\n",
       "      <td>1.201666e-06</td>\n",
       "      <td>0.000156</td>\n",
       "      <td>0.000025</td>\n",
       "      <td>25.77</td>\n",
       "      <td>48.9</td>\n",
       "    </tr>\n",
       "    <tr>\n",
       "      <th>0</th>\n",
       "      <td>215.051</td>\n",
       "      <td>1.650000e-06</td>\n",
       "      <td>9.947082e-07</td>\n",
       "      <td>0.002360</td>\n",
       "      <td>0.001243</td>\n",
       "      <td>25.78</td>\n",
       "      <td>48.9</td>\n",
       "    </tr>\n",
       "    <tr>\n",
       "      <th>0</th>\n",
       "      <td>223.856</td>\n",
       "      <td>6.200000e-06</td>\n",
       "      <td>1.686548e-06</td>\n",
       "      <td>0.009247</td>\n",
       "      <td>0.002424</td>\n",
       "      <td>25.81</td>\n",
       "      <td>48.9</td>\n",
       "    </tr>\n",
       "    <tr>\n",
       "      <th>0</th>\n",
       "      <td>230.103</td>\n",
       "      <td>1.630000e-05</td>\n",
       "      <td>4.083844e-06</td>\n",
       "      <td>0.024684</td>\n",
       "      <td>0.006094</td>\n",
       "      <td>25.82</td>\n",
       "      <td>48.9</td>\n",
       "    </tr>\n",
       "    <tr>\n",
       "      <th>0</th>\n",
       "      <td>234.949</td>\n",
       "      <td>3.378000e-05</td>\n",
       "      <td>9.519314e-06</td>\n",
       "      <td>0.051271</td>\n",
       "      <td>0.014304</td>\n",
       "      <td>25.80</td>\n",
       "      <td>49.0</td>\n",
       "    </tr>\n",
       "    <tr>\n",
       "      <th>...</th>\n",
       "      <td>...</td>\n",
       "      <td>...</td>\n",
       "      <td>...</td>\n",
       "      <td>...</td>\n",
       "      <td>...</td>\n",
       "      <td>...</td>\n",
       "      <td>...</td>\n",
       "    </tr>\n",
       "    <tr>\n",
       "      <th>0</th>\n",
       "      <td>299.114</td>\n",
       "      <td>4.670700e-04</td>\n",
       "      <td>1.560037e-04</td>\n",
       "      <td>0.713573</td>\n",
       "      <td>0.242339</td>\n",
       "      <td>25.79</td>\n",
       "      <td>48.4</td>\n",
       "    </tr>\n",
       "    <tr>\n",
       "      <th>0</th>\n",
       "      <td>299.339</td>\n",
       "      <td>4.688400e-04</td>\n",
       "      <td>1.558027e-04</td>\n",
       "      <td>0.716570</td>\n",
       "      <td>0.241092</td>\n",
       "      <td>25.80</td>\n",
       "      <td>48.4</td>\n",
       "    </tr>\n",
       "    <tr>\n",
       "      <th>0</th>\n",
       "      <td>299.561</td>\n",
       "      <td>4.702400e-04</td>\n",
       "      <td>1.554321e-04</td>\n",
       "      <td>0.717951</td>\n",
       "      <td>0.240685</td>\n",
       "      <td>25.83</td>\n",
       "      <td>48.3</td>\n",
       "    </tr>\n",
       "    <tr>\n",
       "      <th>0</th>\n",
       "      <td>299.782</td>\n",
       "      <td>4.713000e-04</td>\n",
       "      <td>1.543747e-04</td>\n",
       "      <td>0.719657</td>\n",
       "      <td>0.238931</td>\n",
       "      <td>25.83</td>\n",
       "      <td>48.3</td>\n",
       "    </tr>\n",
       "    <tr>\n",
       "      <th>0</th>\n",
       "      <td>300.000</td>\n",
       "      <td>4.727700e-04</td>\n",
       "      <td>1.537802e-04</td>\n",
       "      <td>0.722417</td>\n",
       "      <td>0.237795</td>\n",
       "      <td>25.82</td>\n",
       "      <td>48.3</td>\n",
       "    </tr>\n",
       "  </tbody>\n",
       "</table></div>"
      ],
      "text/plain": [
       "    LCurrent          avPM         stdPM     avRPD    stdRPD   Temp    RH\n",
       "0    200.000  3.800000e-07  1.201666e-06  0.000156  0.000025  25.77  48.9\n",
       "0    215.051  1.650000e-06  9.947082e-07  0.002360  0.001243  25.78  48.9\n",
       "0    223.856  6.200000e-06  1.686548e-06  0.009247  0.002424  25.81  48.9\n",
       "0    230.103  1.630000e-05  4.083844e-06  0.024684  0.006094  25.82  48.9\n",
       "0    234.949  3.378000e-05  9.519314e-06  0.051271  0.014304  25.80  49.0\n",
       "..       ...           ...           ...       ...       ...    ...   ...\n",
       "0    299.114  4.670700e-04  1.560037e-04  0.713573  0.242339  25.79  48.4\n",
       "0    299.339  4.688400e-04  1.558027e-04  0.716570  0.241092  25.80  48.4\n",
       "0    299.561  4.702400e-04  1.554321e-04  0.717951  0.240685  25.83  48.3\n",
       "0    299.782  4.713000e-04  1.543747e-04  0.719657  0.238931  25.83  48.3\n",
       "0    300.000  4.727700e-04  1.537802e-04  0.722417  0.237795  25.82  48.3\n",
       "\n",
       "[100 rows x 7 columns]"
      ]
     },
     "execution_count": 51,
     "metadata": {},
     "output_type": "execute_result"
    }
   ],
   "source": [
    "Tav"
   ]
  },
  {
   "cell_type": "code",
   "execution_count": 65,
   "metadata": {},
   "outputs": [
    {
     "data": {
      "text/plain": [
       "0.00015612"
      ]
     },
     "execution_count": 65,
     "metadata": {},
     "output_type": "execute_result"
    }
   ],
   "source": [
    "Tav['avRPD'].values[0]"
   ]
  },
  {
   "cell_type": "code",
   "execution_count": null,
   "metadata": {},
   "outputs": [],
   "source": []
  }
 ],
 "metadata": {
  "kernelspec": {
   "display_name": "Python 3.9.6 64-bit",
   "language": "python",
   "name": "python3"
  },
  "language_info": {
   "codemirror_mode": {
    "name": "ipython",
    "version": 3
   },
   "file_extension": ".py",
   "mimetype": "text/x-python",
   "name": "python",
   "nbconvert_exporter": "python",
   "pygments_lexer": "ipython3",
   "version": "3.9.6"
  },
  "vscode": {
   "interpreter": {
    "hash": "31f2aee4e71d21fbe5cf8b01ff0e069b9275f58929596ceb00d14d90e3e16cd6"
   }
  }
 },
 "nbformat": 4,
 "nbformat_minor": 2
}
