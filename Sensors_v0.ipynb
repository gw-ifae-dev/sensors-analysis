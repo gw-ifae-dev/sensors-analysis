{
 "cells": [
  {
   "cell_type": "code",
   "execution_count": 16,
   "metadata": {},
   "outputs": [],
   "source": [
    "\n",
    "import numpy as np\n",
    "import matplotlib.pyplot as plt\n",
    "import os\n",
    "import pandas as pd\n",
    "from scipy.stats import linregress\n",
    "from datetime import datetime\n",
    "#from dateinfer import infer\n",
    "\n",
    "filename = '/workspaces/sensors-analysis/data/PM_vs_PD_Sensitivity_Final_1.txt'\n",
    "run = pd.read_csv(filename, delimiter ='\\t')\n",
    "type(run)\n",
    "#print(df.where(m, -df).str[:8])\n",
    "#print(len(run['Time'])) \n",
    "\n",
    "#run['Length of Time'] = run['Time'].str.len()\n",
    "TimenOk=run.loc[run['Time'].str.len() == 10].index #those are not ok we need to change\n",
    "#print(run.loc[TimenOk].head())\n",
    "TimeOK=run.loc[run['Time'].str.len() == 11].index \n",
    "run.loc[TimenOk,'Time'] = '0'+run['Time']\n",
    "\n",
    "#print(run.loc[TimenOk].head())\n",
    "\n",
    "#print(TimenOk)\n",
    "\n",
    "\n",
    "#print(run['Time'])\n",
    "\n",
    "#print(run['Time'].str.len())\n",
    "#print(TimenOk)\n",
    "\n",
    "\n",
    "\n",
    "\n",
    "\n",
    "tt=run['Date'].str[6:10]+'-'+run['Date'].str[3:5]+'-'+run['Date'].str[0:2]+' '+run['Time'].str[:8]+'.000'\n",
    "#print(tt)\n",
    "\n",
    "\n",
    "\n",
    "from astropy.time import Time\n",
    "t = Time(list(tt.values), format='iso', scale='utc')\n",
    "#print(t.gps)\n",
    "\n",
    "\n",
    "#plt.plot(t.gps, run['PowerMeterMeanW'].values, linestyle='None', marker='.')\n"
   ]
  },
  {
   "cell_type": "code",
   "execution_count": null,
   "metadata": {},
   "outputs": [],
   "source": [
    "#import datetime as dt\n",
    "#from datetime import datetime\n",
    "#to = datetime.strptime(tt.values[0], '%d/%m/%Y %H:%M:%S')\n",
    "#print(to.gps)"
   ]
  },
  {
   "cell_type": "code",
   "execution_count": null,
   "metadata": {},
   "outputs": [],
   "source": []
  }
 ],
 "metadata": {
  "kernelspec": {
   "display_name": "Python 3",
   "language": "python",
   "name": "python3"
  },
  "language_info": {
   "codemirror_mode": {
    "name": "ipython",
    "version": 3
   },
   "file_extension": ".py",
   "mimetype": "text/x-python",
   "name": "python",
   "nbconvert_exporter": "python",
   "pygments_lexer": "ipython3",
   "version": "3.10.4"
  },
  "orig_nbformat": 4
 },
 "nbformat": 4,
 "nbformat_minor": 2
}
