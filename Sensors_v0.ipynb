{
 "cells": [
  {
   "cell_type": "code",
   "execution_count": 2,
   "metadata": {},
   "outputs": [],
   "source": [
    "\n",
    "import numpy as np\n",
    "import matplotlib.pyplot as plt\n",
    "import os\n",
    "import pandas as pd\n",
    "from scipy.stats import linregress\n",
    "from datetime import datetime\n",
    "#from dateinfer import infer\n",
    "\n",
    "filename = '/workspaces/sensors-analysis/data/PM_vs_PD_Sensitivity_Final_1.txt'\n",
    "run = pd.read_csv(filename, delimiter ='\\t')\n",
    "type(run)\n",
    "#print(df.where(m, -df).str[:8])\n",
    "#print(len(run['Time'])) \n",
    "\n",
    "#run['Length of Time'] = run['Time'].str.len()\n",
    "TimenOk=run.loc[run['Time'].str.len() == 10].index #those are not ok we need to change\n",
    "#print(run.loc[TimenOk].head())\n",
    "TimeOK=run.loc[run['Time'].str.len() == 11].index \n",
    "run.loc[TimenOk,'Time'] = '0'+run['Time']\n",
    "\n",
    "#print(run.loc[TimenOk].head())\n",
    "\n",
    "#print(TimenOk)\n",
    "\n",
    "\n",
    "#print(run['Time'])\n",
    "\n",
    "#print(run['Time'].str.len())\n",
    "#print(TimenOk)\n",
    "\n",
    "\n",
    "\n",
    "\n",
    "\n",
    "tt=run['Date'].str[6:10]+'-'+run['Date'].str[3:5]+'-'+run['Date'].str[0:2]+' '+run['Time'].str[:8]+'.000'\n",
    "#print(tt)\n",
    "\n",
    "\n",
    "\n",
    "from astropy.time import Time\n",
    "t = Time(list(tt.values), format='iso', scale='utc')\n",
    "#print(t.gps)\n",
    "\n",
    "\n",
    "#plt.plot(t.gps, run['PowerMeterMeanW'].values, linestyle='None', marker='.')\n"
   ]
  },
  {
   "cell_type": "code",
   "execution_count": null,
   "metadata": {},
   "outputs": [],
   "source": [
    "#import datetime as dt\n",
    "#from datetime import datetime\n",
    "#to = datetime.strptime(tt.values[0], '%d/%m/%Y %H:%M:%S')\n",
    "#print(to.gps)"
   ]
  },
  {
   "cell_type": "code",
   "execution_count": 3,
   "metadata": {},
   "outputs": [
    {
     "name": "stdout",
     "output_type": "stream",
     "text": [
      "         Date         Time  PowerSetpointmW  LaserDisplaymW  PowerMeterMeanW  \\\n",
      "1  02/07/2023  16:15:15 PM             0.01        0.678875              0.0   \n",
      "2  02/07/2023  16:15:38 PM             0.02        0.678875              0.0   \n",
      "3  02/07/2023  16:16:00 PM             0.03        0.677665              0.0   \n",
      "4  02/07/2023  16:16:23 PM             0.04        0.677665              0.0   \n",
      "5  02/07/2023  16:16:45 PM             0.05        0.678875              0.0   \n",
      "\n",
      "   PowerMeterStdW  KeithleyMeanV  KeithleyStdV  RaspberryMeanADU  \\\n",
      "1             0.0  -2.115000e-06  1.950000e-07               NaN   \n",
      "2             0.0  -1.749000e-06  1.950000e-07               NaN   \n",
      "3             0.0  -1.307000e-06  2.140000e-07               NaN   \n",
      "4             0.0  -9.240000e-07  2.230000e-07               NaN   \n",
      "5             0.0  -2.130000e-07  2.100000e-07               NaN   \n",
      "\n",
      "   RaspberryStdADU  NDFilter  \n",
      "1                0         1  \n",
      "2                0         1  \n",
      "3                0         1  \n",
      "4                0         1  \n",
      "5                0         1  \n"
     ]
    }
   ],
   "source": [
    "Run1idxini=0\n",
    "Run1idxend=1234\n",
    "Filter1idxRun1=run.loc[(run['NDFilter']== 1) & (run.index<Run1idxend) & (run.index>Run1idxini)].index \n",
    "\n",
    "print(run.loc[Filter1idxRun1].head())\n"
   ]
  },
  {
   "cell_type": "code",
   "execution_count": null,
   "metadata": {},
   "outputs": [],
   "source": []
  }
 ],
 "metadata": {
  "kernelspec": {
   "display_name": "Python 3",
   "language": "python",
   "name": "python3"
  },
  "language_info": {
   "codemirror_mode": {
    "name": "ipython",
    "version": 3
   },
   "file_extension": ".py",
   "mimetype": "text/x-python",
   "name": "python",
   "nbconvert_exporter": "python",
   "pygments_lexer": "ipython3",
   "version": "3.10.4"
  },
  "orig_nbformat": 4
 },
 "nbformat": 4,
 "nbformat_minor": 2
}
