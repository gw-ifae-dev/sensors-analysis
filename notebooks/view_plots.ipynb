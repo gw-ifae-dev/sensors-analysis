{
 "cells": [
  {
   "cell_type": "code",
   "execution_count": 11,
   "metadata": {},
   "outputs": [
    {
     "name": "stdout",
     "output_type": "stream",
     "text": [
      "             Date         Time  PowerSetpointmW             PowerMeterMeanW  \\\n",
      "0      02/07/2023  16:14:52 PM             0.00   0.681295     0.000000e+00   \n",
      "1      02/07/2023  16:15:15 PM             0.01   0.678875     0.000000e+00   \n",
      "2      02/07/2023  16:15:38 PM             0.02   0.678875     0.000000e+00   \n",
      "3      02/07/2023  16:16:00 PM             0.03   0.677665     0.000000e+00   \n",
      "4      02/07/2023  16:16:23 PM             0.04   0.677665     0.000000e+00   \n",
      "...           ...          ...              ...        ...              ...   \n",
      "10637  02/10/2023  11:02:48 AM            49.39  59.933403     9.480000e-07   \n",
      "10638  02/10/2023  11:03:10 AM            49.40  59.951553     9.490000e-07   \n",
      "10639  02/10/2023  11:03:33 AM            49.41  59.978176     9.480000e-07   \n",
      "10640  02/10/2023  11:03:56 AM            49.42  59.986649     9.500000e-07   \n",
      "10641  02/10/2023  11:04:18 AM            49.43  60.008430     9.320000e-07   \n",
      "\n",
      "       PowerMeterStdW  KeithleyMeanV  KeithleyStdV  RaspberryMeanADU  \\\n",
      "0        0.000000e+00  -2.161000e-06  1.990000e-07               NaN   \n",
      "1        0.000000e+00  -2.115000e-06  1.950000e-07               NaN   \n",
      "2        0.000000e+00  -1.749000e-06  1.950000e-07               NaN   \n",
      "3        0.000000e+00  -1.307000e-06  2.140000e-07               NaN   \n",
      "4        0.000000e+00  -9.240000e-07  2.230000e-07               NaN   \n",
      "...               ...            ...           ...               ...   \n",
      "10637    0.000000e+00   1.105770e-04  1.850000e-07               NaN   \n",
      "10638    0.000000e+00   1.106210e-04  1.860000e-07               NaN   \n",
      "10639    1.000000e-09   1.106150e-04  1.880000e-07               NaN   \n",
      "10640    1.000000e-09   1.106760e-04  1.900000e-07               NaN   \n",
      "10641    1.340000e-07   1.108070e-04  1.670000e-07               NaN   \n",
      "\n",
      "       RaspberryStdADU  NDFilter  \n",
      "0                    0         1  \n",
      "1                    0         1  \n",
      "2                    0         1  \n",
      "3                    0         1  \n",
      "4                    0         1  \n",
      "...                ...       ...  \n",
      "10637                0         3  \n",
      "10638                0         3  \n",
      "10639                0         3  \n",
      "10640                0         3  \n",
      "10641                0         3  \n",
      "\n",
      "[10642 rows x 11 columns]\n"
     ]
    },
    {
     "ename": "TypeError",
     "evalue": "'tuple' object is not callable",
     "output_type": "error",
     "traceback": [
      "\u001b[0;31m---------------------------------------------------------------------------\u001b[0m",
      "\u001b[0;31mTypeError\u001b[0m                                 Traceback (most recent call last)",
      "Cell \u001b[0;32mIn[11], line 14\u001b[0m\n\u001b[1;32m     12\u001b[0m run \u001b[39m=\u001b[39m pd\u001b[39m.\u001b[39mread_csv(filename, delimiter \u001b[39m=\u001b[39m\u001b[39m'\u001b[39m\u001b[39m\\t\u001b[39;00m\u001b[39m'\u001b[39m)\n\u001b[1;32m     13\u001b[0m \u001b[39mprint\u001b[39m(run)\n\u001b[0;32m---> 14\u001b[0m run\u001b[39m.\u001b[39;49mshape()\n\u001b[1;32m     15\u001b[0m \u001b[39m#print(run.loc[:,\"Date\"])\u001b[39;00m\n\u001b[1;32m     16\u001b[0m \n\u001b[1;32m     17\u001b[0m \u001b[39m#ax0 = plt.figure(figsize=(8, 8)).gca()\u001b[39;00m\n\u001b[0;32m   (...)\u001b[0m\n\u001b[1;32m     29\u001b[0m \u001b[39m#ax = run.hist(column='PowerMeterStdW', bins=25, grid=False, figsize=(12,8), color='#86bf91', zorder=2, rwidth=0.9)\u001b[39;00m\n\u001b[1;32m     30\u001b[0m \u001b[39m#NDF1=run.loc[run['NDFilter'] == 1]\u001b[39;00m\n",
      "\u001b[0;31mTypeError\u001b[0m: 'tuple' object is not callable"
     ]
    },
    {
     "ename": "",
     "evalue": "",
     "output_type": "error",
     "traceback": [
      "\u001b[1;31mThe Kernel crashed while executing code in the the current cell or a previous cell. Please review the code in the cell(s) to identify a possible cause of the failure. Click <a href='https://aka.ms/vscodeJupyterKernelCrash'>here</a> for more info. View Jupyter <a href='command:jupyter.viewOutput'>log</a> for further details."
     ]
    }
   ],
   "source": [
    "import pandas as pd\n",
    "import numpy as np\n",
    "import matplotlib.pyplot as plt\n",
    "import os\n",
    "\n",
    "#def NicePlots(data):\n",
    "#    data.T.plot(kind='scatter', x='Time', y='PowerSetpointmW', s=35, c='green')\n",
    "\n",
    "# Read file and extract them by columns. \n",
    "filename = '/workspaces/codespaces-jupyter/data/PM_vs_PD_Sensitivity_Final_1.txt'\n",
    "\n",
    "run = pd.read_csv(filename, delimiter ='\\t')\n",
    "print(run)\n",
    "\n",
    "#print(run.loc[:,\"Date\"])\n",
    "\n",
    "#ax0 = plt.figure(figsize=(8, 8)).gca()\n",
    "#run.plot(kind='scatter', figsize=(8, 8), x='KeithleyMeanV', y='PowerMeterMeanW', s=3, c='green')\n",
    "\n",
    "#run.T.plot(kind='bar', x='KeithleyMeanV')\n",
    "\n",
    "#run.plot(kind='scatter', x='KeithleyMeanV', y='PowerMeterStdW', s=3, c='green')\n",
    "#run.plot(kind='scatter', x='KeithleyStdV', y='PowerMeterStdW', s=3, c='green')\n",
    "\n",
    "\n",
    "# Std histograms\n",
    "#hists = run.hist(bins=10)\n",
    "\n",
    "#ax = run.hist(column='PowerMeterStdW', bins=25, grid=False, figsize=(12,8), color='#86bf91', zorder=2, rwidth=0.9)\n",
    "#NDF1=run.loc[run['NDFilter'] == 1]"
   ]
  },
  {
   "cell_type": "code",
   "execution_count": null,
   "metadata": {},
   "outputs": [],
   "source": []
  },
  {
   "cell_type": "code",
   "execution_count": null,
   "metadata": {},
   "outputs": [],
   "source": []
  }
 ],
 "metadata": {
  "kernelspec": {
   "display_name": "Python 3",
   "language": "python",
   "name": "python3"
  },
  "language_info": {
   "codemirror_mode": {
    "name": "ipython",
    "version": 3
   },
   "file_extension": ".py",
   "mimetype": "text/x-python",
   "name": "python",
   "nbconvert_exporter": "python",
   "pygments_lexer": "ipython3",
   "version": "3.10.4"
  },
  "orig_nbformat": 4,
  "vscode": {
   "interpreter": {
    "hash": "3ad933181bd8a04b432d3370b9dc3b0662ad032c4dfaa4e4f1596c548f763858"
   }
  }
 },
 "nbformat": 4,
 "nbformat_minor": 2
}
